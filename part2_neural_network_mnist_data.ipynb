{
 "cells": [
  {
   "cell_type": "code",
   "execution_count": 1,
   "metadata": {
    "collapsed": true
   },
   "outputs": [],
   "source": [
    "# python notebook for Make Your Own Neural Network\n",
    "# code for a 3-layer neural network, and code for learning the MNIST dataset\n",
    "# (c) Tariq Rashid, 2016\n",
    "# license is GPLv2"
   ]
  },
  {
   "cell_type": "code",
   "execution_count": 2,
   "metadata": {
    "collapsed": true
   },
   "outputs": [],
   "source": [
    "import numpy                # 행렬 계산을 위한 라이브러리\n",
    "import scipy.special        # 시그모이드 함수를 위한 라이브러리\n",
    "import matplotlib.pyplot    # 그림을 그리기 위한 라이브러리\n",
    "#%matplotlib inline           # 주피터 노트북 내에서 그림 출력"
   ]
  },
  {
   "cell_type": "code",
   "execution_count": 3,
   "metadata": {},
   "outputs": [],
   "source": [
    "# 신경망 클래스 정의\n",
    "class neuralNetwork:\n",
    "    \n",
    "    \n",
    "    # 신경망 초기화 함수\n",
    "    def __init__(self, inputnodes, hiddennodes, outputnodes, learningrate):\n",
    "        # 입력 노드의 수, 은닉 노드의 수, 출력 노드의 수를 전달받아 변수에 저장\n",
    "        self.inodes = inputnodes\n",
    "        self.hnodes = hiddennodes\n",
    "        self.onodes = outputnodes\n",
    "        \n",
    "        # 가중치 행렬 wih와 who를 초기화\n",
    "        # weights inside the arrays are w_i_j, where link is from node i to node j in the next layer\n",
    "        # w11 w21\n",
    "        # w12 w22 etc \n",
    "        self.wih = numpy.random.normal(0.0, pow(self.inodes, -0.5), (self.hnodes, self.inodes))     # 입력 계층에서 은닉 계층으로 연결된 가중치 행렬을 정규화된 랜덤 숫자로 초기화\n",
    "        self.who = numpy.random.normal(0.0, pow(self.hnodes, -0.5), (self.onodes, self.hnodes))     # 은닉 계층에서 출력 계층으로 연결된 가중치 행렬을 정규화된 랜덤 숫자로 초기화\n",
    "\n",
    "        # 학습률을 전달받아 저장\n",
    "        self.lr = learningrate\n",
    "        \n",
    "        # activation_function이란 이름의 함수를 선언(활성화 함수 = 시그모이드 함수)\n",
    "        self.activation_function = lambda x: scipy.special.expit(x)\n",
    "        \n",
    "        pass\n",
    "\n",
    "    \n",
    "    # 신경망을 학습시키는 함수\n",
    "    def train(self, inputs_list, targets_list):\n",
    "        # inputs_list(입력 값)를 2차원 행렬로 변환하고 전치\n",
    "        inputs = numpy.array(inputs_list, ndmin=2).T\n",
    "        # targets_list(목표 값)를 2차원 행렬로 변환하고 전치\n",
    "        targets = numpy.array(targets_list, ndmin=2).T\n",
    "        \n",
    "        # 은닉 계층에 입력되는 신호 값을 계산(행렬 곱)\n",
    "        hidden_inputs = numpy.dot(self.wih, inputs)\n",
    "        # 은닉 계층에서 출력되는 신호 값을 계산(활성화 함수) \n",
    "        hidden_outputs = self.activation_function(hidden_inputs)\n",
    "        \n",
    "        # 최종 출력 계층에 입력되는 신호 값을 계산(행렬 곱)\n",
    "        final_inputs = numpy.dot(self.who, hidden_outputs)\n",
    "        # 최종 출력 계층에서 출력되는 신호 값을 계산(활성화 함수)\n",
    "        final_outputs = self.activation_function(final_inputs)\n",
    "        \n",
    "        # 출력 계층의 오차(목표 값 - 실제 계산된 값)\n",
    "        output_errors = targets - final_outputs\n",
    "        # 은닉 계층의 오차(출력 계층의 오차를 가중치에 따라 나누고 은닉 노드에서 재조합)\n",
    "        hidden_errors = numpy.dot(self.who.T, output_errors) \n",
    "        \n",
    "        # 은닉 계층과 출력 계층 사이의 오차를 적용하여 가중치 업데이트\n",
    "        self.who += self.lr * numpy.dot((output_errors * final_outputs * (1.0 - final_outputs)), numpy.transpose(hidden_outputs))\n",
    "        \n",
    "        # 입력 계층과 은닉 계층 사이의 오차를 적용하여 가중치 업데이트\n",
    "        self.wih += self.lr * numpy.dot((hidden_errors * hidden_outputs * (1.0 - hidden_outputs)), numpy.transpose(inputs))\n",
    "        \n",
    "        pass\n",
    "\n",
    "    \n",
    "    # 신경망에 질의하는 함수\n",
    "    def query(self, inputs_list):\n",
    "        # inputs_list(입력 값)를 2차원 행렬로 변환하고 전치\n",
    "        inputs = numpy.array(inputs_list, ndmin=2).T\n",
    "        \n",
    "        # 은닉 계층에 입력되는 신호 값을 계산(행렬 곱)\n",
    "        hidden_inputs = numpy.dot(self.wih, inputs)\n",
    "        # 은닉 계층에서 출력되는 신호 값을 계산(활성화 함수) \n",
    "        hidden_outputs = self.activation_function(hidden_inputs)\n",
    "        \n",
    "        # 최종 출력 계층에 입력되는 신호 값을 계산(행렬 곱)\n",
    "        final_inputs = numpy.dot(self.who, hidden_outputs)\n",
    "        # 최종 출력 계층에서 출력되는 신호 값을 계산(활성화 함수)\n",
    "        final_outputs = self.activation_function(final_inputs)\n",
    "        \n",
    "        return final_outputs"
   ]
  },
  {
   "cell_type": "code",
   "execution_count": 4,
   "metadata": {},
   "outputs": [],
   "source": [
    "# 입력 노드의 수, 은닉 노드의 수, 출력 노드의 수를 설정\n",
    "input_nodes = 784       # MNIST 숫자 데이터의 픽셀 수(28*28)\n",
    "hidden_nodes = 200      # 적절한 갯수\n",
    "output_nodes = 10       # 찾아야 할 숫자는 10가지\n",
    "\n",
    "# 학습률 설정\n",
    "learning_rate = 0.1\n",
    "\n",
    "# 신경망 인스턴스(객체) 생성\n",
    "n = neuralNetwork(input_nodes,hidden_nodes,output_nodes, learning_rate)"
   ]
  },
  {
   "cell_type": "code",
   "execution_count": 5,
   "metadata": {},
   "outputs": [],
   "source": [
    "# 학습용 데이터 파일을 열어 그 내용을 리스트로 저장함\n",
    "training_data_file = open(\"mnist_dataset/mnist_train.csv\", 'r')\n",
    "training_data_list = training_data_file.readlines()\n",
    "training_data_file.close()"
   ]
  },
  {
   "cell_type": "code",
   "execution_count": 6,
   "metadata": {},
   "outputs": [],
   "source": [
    "# 신경망을 학습시킴\n",
    "\n",
    "# 학습을 반복할 횟수를 설정\n",
    "epochs = 5\n",
    "\n",
    "for e in range(epochs):\n",
    "    # 학습용 데이터 파일에 있는 모든 레코드를 차례대로 학습시킴\n",
    "    for record in training_data_list:\n",
    "        # 컴마(,)를 기준으로 레코드를 잘라서 리스트로 저장\n",
    "        all_values = record.split(',')\n",
    "        # 레코드 숫자 값 범위(0~255)를 0.01~1.00의 범위로 변환\n",
    "        inputs = (numpy.asfarray(all_values[1:]) / 255.0 * 0.99) + 0.01\n",
    "        # 목표 값 행렬을 생성하고 모든 값을 0.01로 초기화\n",
    "        targets = numpy.zeros(output_nodes) + 0.01\n",
    "        # all_values[0]은 학습을 위한 답이 들어있으므로 해당 노드의 목표 값을 0.99로 설정\n",
    "        targets[int(all_values[0])] = 0.99\n",
    "        # 입력 데이터 값과 목표 값을 주고 학습시킴\n",
    "        n.train(inputs, targets)\n",
    "        pass\n",
    "    pass"
   ]
  },
  {
   "cell_type": "code",
   "execution_count": 7,
   "metadata": {
    "collapsed": true
   },
   "outputs": [],
   "source": [
    "# 테스트용 데이터 파일을 열어 그 내용을 리스트로 저장함\n",
    "test_data_file = open(\"mnist_dataset/mnist_test.csv\", 'r')\n",
    "test_data_list = test_data_file.readlines()\n",
    "test_data_file.close()"
   ]
  },
  {
   "cell_type": "code",
   "execution_count": 8,
   "metadata": {},
   "outputs": [],
   "source": [
    "# 신경망에 질의하여 테스트\n",
    "\n",
    "# 신경망 점수표를 빈 리스트로 생성\n",
    "scorecard = []\n",
    "\n",
    "# go through all the records in the test data set\n",
    "# 테스트용 데이터 파일에 있는 모든 레코드를 차례대로 질의하여 테스트함\n",
    "for record in test_data_list:\n",
    "    # 컴마(,)를 기준으로 레코드를 잘라서 리스트로 저장\n",
    "    all_values = record.split(',')\n",
    "    # correct answer is first value\n",
    "    # all_values[0]은 테스트를 위한 정답이 들어있음\n",
    "    correct_label = int(all_values[0])\n",
    "    # 레코드 숫자 값 범위(0~255)를 0.01~1.00의 범위로 변환\n",
    "    inputs = (numpy.asfarray(all_values[1:]) / 255.0 * 0.99) + 0.01\n",
    "    # 신경망에 테스트 값을 주어 질의\n",
    "    outputs = n.query(inputs)\n",
    "    # 출력 노드 값 중 가장 큰 값이 신경망의 답\n",
    "    label = numpy.argmax(outputs)\n",
    "    # 신경망 점수표에 점수를 기록\n",
    "    if (label == correct_label):\n",
    "        # 신경망이 정답을 말하면 점수표에 1을 추가\n",
    "        scorecard.append(1)\n",
    "    else:\n",
    "        # 신경망이 오답을 말하면 점수표에 0을 추가\n",
    "        scorecard.append(0)\n",
    "        pass\n",
    "    \n",
    "    pass"
   ]
  },
  {
   "cell_type": "code",
   "execution_count": 9,
   "metadata": {},
   "outputs": [
    {
     "name": "stdout",
     "output_type": "stream",
     "text": [
      "performance =  0.9712\n"
     ]
    }
   ],
   "source": [
    "# 신경망의 성능(정답률)을 계산하여 출력\n",
    "scorecard_array = numpy.asarray(scorecard)\n",
    "print (\"performance = \", scorecard_array.sum() / scorecard_array.size)"
   ]
  },
  {
   "cell_type": "code",
   "execution_count": null,
   "metadata": {
    "collapsed": true
   },
   "outputs": [],
   "source": []
  }
 ],
 "metadata": {
  "kernelspec": {
   "display_name": "Python 3",
   "language": "python",
   "name": "python3"
  },
  "language_info": {
   "codemirror_mode": {
    "name": "ipython",
    "version": 3
   },
   "file_extension": ".py",
   "mimetype": "text/x-python",
   "name": "python",
   "nbconvert_exporter": "python",
   "pygments_lexer": "ipython3",
   "version": "3.6.1"
  }
 },
 "nbformat": 4,
 "nbformat_minor": 1
}
