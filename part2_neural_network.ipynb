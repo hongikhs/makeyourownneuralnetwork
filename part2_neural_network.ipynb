{
 "cells": [
  {
   "cell_type": "code",
   "execution_count": 1,
   "metadata": {
    "collapsed": true
   },
   "outputs": [],
   "source": [
    "# python notebook for Make Your Own Neural Network\n",
    "# (c) Tariq Rashid, 2016\n",
    "# license is GPLv2"
   ]
  },
  {
   "cell_type": "code",
   "execution_count": 2,
   "metadata": {
    "collapsed": true
   },
   "outputs": [],
   "source": [
    "import numpy            # 행렬 계산을 위한 라이브러리\n",
    "import scipy.special    # 시그모이드 함수를 위한 라이브러리"
   ]
  },
  {
   "cell_type": "code",
   "execution_count": 3,
   "metadata": {},
   "outputs": [],
   "source": [
    "# 신경망 클래스 정의\n",
    "class neuralNetwork:\n",
    "    \n",
    "    \n",
    "    # 신경망 초기화 함수\n",
    "    def __init__(self, inputnodes, hiddennodes, outputnodes, learningrate):\n",
    "        # 입력 노드의 수, 은닉 노드의 수, 출력 노드의 수를 전달받아 변수에 저장\n",
    "        self.inodes = inputnodes\n",
    "        self.hnodes = hiddennodes\n",
    "        self.onodes = outputnodes\n",
    "        \n",
    "        # 가중치 행렬 wih와 who를 초기화\n",
    "        # weights inside the arrays are w_i_j, where link is from node i to node j in the next layer\n",
    "        # w11 w21\n",
    "        # w12 w22 etc \n",
    "        self.wih = numpy.random.normal(0.0, pow(self.inodes, -0.5), (self.hnodes, self.inodes))     # 입력 계층에서 은닉 계층으로 연결된 가중치 행렬을 정규화된 랜덤 숫자로 초기화\n",
    "        self.who = numpy.random.normal(0.0, pow(self.hnodes, -0.5), (self.onodes, self.hnodes))     # 은닉 계층에서 출력 계층으로 연결된 가중치 행렬을 정규화된 랜덤 숫자로 초기화\n",
    "\n",
    "        # 학습률을 전달받아 저장\n",
    "        self.lr = learningrate\n",
    "        \n",
    "        # activation_function이란 이름의 함수를 선언(활성화 함수 = 시그모이드 함수)\n",
    "        self.activation_function = lambda x: scipy.special.expit(x)\n",
    "        \n",
    "        pass\n",
    "\n",
    "    \n",
    "    # 신경망을 학습시키는 함수\n",
    "    def train(self, inputs_list, targets_list):\n",
    "        # inputs_list(입력 값)를 2차원 행렬로 변환하고 전치\n",
    "        inputs = numpy.array(inputs_list, ndmin=2).T\n",
    "        # targets_list(목표 값)를 2차원 행렬로 변환하고 전치\n",
    "        targets = numpy.array(targets_list, ndmin=2).T\n",
    "        \n",
    "        # 은닉 계층에 입력되는 신호 값을 계산(행렬 곱)\n",
    "        hidden_inputs = numpy.dot(self.wih, inputs)\n",
    "        # 은닉 계층에서 출력되는 신호 값을 계산(활성화 함수) \n",
    "        hidden_outputs = self.activation_function(hidden_inputs)\n",
    "        \n",
    "        # 최종 출력 계층에 입력되는 신호 값을 계산(행렬 곱)\n",
    "        final_inputs = numpy.dot(self.who, hidden_outputs)\n",
    "        # 최종 출력 계층에서 출력되는 신호 값을 계산(활성화 함수)\n",
    "        final_outputs = self.activation_function(final_inputs)\n",
    "        \n",
    "        # 출력 계층의 오차(목표 값 - 실제 계산된 값)\n",
    "        output_errors = targets - final_outputs\n",
    "        # 은닉 계층의 오차(출력 계층의 오차를 가중치에 따라 나누고 은닉 노드에서 재조합)\n",
    "        hidden_errors = numpy.dot(self.who.T, output_errors) \n",
    "        \n",
    "        # 은닉 계층과 출력 계층 사이의 오차를 적용하여 가중치 업데이트\n",
    "        self.who += self.lr * numpy.dot((output_errors * final_outputs * (1.0 - final_outputs)), numpy.transpose(hidden_outputs))\n",
    "        \n",
    "        # 입력 계층과 은닉 계층 사이의 오차를 적용하여 가중치 업데이트\n",
    "        self.wih += self.lr * numpy.dot((hidden_errors * hidden_outputs * (1.0 - hidden_outputs)), numpy.transpose(inputs))\n",
    "        \n",
    "        pass\n",
    "\n",
    "    \n",
    "    # 신경망에 질의하는 함수\n",
    "    def query(self, inputs_list):\n",
    "        # inputs_list(입력 값)를 2차원 행렬로 변환하고 전치\n",
    "        inputs = numpy.array(inputs_list, ndmin=2).T\n",
    "        \n",
    "        # 은닉 계층에 입력되는 신호 값을 계산(행렬 곱)\n",
    "        hidden_inputs = numpy.dot(self.wih, inputs)\n",
    "        # 은닉 계층에서 출력되는 신호 값을 계산(활성화 함수) \n",
    "        hidden_outputs = self.activation_function(hidden_inputs)\n",
    "        \n",
    "        # 최종 출력 계층에 입력되는 신호 값을 계산(행렬 곱)\n",
    "        final_inputs = numpy.dot(self.who, hidden_outputs)\n",
    "        # 최종 출력 계층에서 출력되는 신호 값을 계산(활성화 함수)\n",
    "        final_outputs = self.activation_function(final_inputs)\n",
    "        \n",
    "        return final_outputs"
   ]
  },
  {
   "cell_type": "code",
   "execution_count": 4,
   "metadata": {},
   "outputs": [],
   "source": [
    "# 입력 노드의 수, 은닉 노드의 수, 출력 노드의 수를 임의로 설정(아무 의미 없는 값)\n",
    "input_nodes = 3\n",
    "hidden_nodes = 3\n",
    "output_nodes = 3\n",
    "\n",
    "# 학습률은 0.3\n",
    "learning_rate = 0.3\n",
    "\n",
    "# 신경망 인스턴스(객체) 생성\n",
    "n = neuralNetwork(input_nodes,hidden_nodes,output_nodes, learning_rate)"
   ]
  },
  {
   "cell_type": "code",
   "execution_count": 5,
   "metadata": {},
   "outputs": [
    {
     "data": {
      "text/plain": [
       "array([[ 0.43461026],\n",
       "       [ 0.40331273],\n",
       "       [ 0.56675401]])"
      ]
     },
     "execution_count": 5,
     "metadata": {},
     "output_type": "execute_result"
    }
   ],
   "source": [
    "# 신경망 질의 모의 테스트(아무 의미 없는 값)\n",
    "n.query([1.0, 0.5, -1.5])"
   ]
  },
  {
   "cell_type": "code",
   "execution_count": null,
   "metadata": {
    "collapsed": true
   },
   "outputs": [],
   "source": []
  }
 ],
 "metadata": {
  "kernelspec": {
   "display_name": "Python 3",
   "language": "python",
   "name": "python3"
  },
  "language_info": {
   "codemirror_mode": {
    "name": "ipython",
    "version": 3
   },
   "file_extension": ".py",
   "mimetype": "text/x-python",
   "name": "python",
   "nbconvert_exporter": "python",
   "pygments_lexer": "ipython3",
   "version": "3.6.1"
  }
 },
 "nbformat": 4,
 "nbformat_minor": 1
}
